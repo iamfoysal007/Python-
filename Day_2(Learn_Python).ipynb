{
  "nbformat": 4,
  "nbformat_minor": 0,
  "metadata": {
    "colab": {
      "provenance": [],
      "authorship_tag": "ABX9TyOEWs75IMCZY2tZ6z43g0rc",
      "include_colab_link": true
    },
    "kernelspec": {
      "name": "python3",
      "display_name": "Python 3"
    },
    "language_info": {
      "name": "python"
    }
  },
  "cells": [
    {
      "cell_type": "markdown",
      "metadata": {
        "id": "view-in-github",
        "colab_type": "text"
      },
      "source": [
        "<a href=\"https://colab.research.google.com/github/iamfoysal007/Python-/blob/main/Day_2(Learn_Python).ipynb\" target=\"_parent\"><img src=\"https://colab.research.google.com/assets/colab-badge.svg\" alt=\"Open In Colab\"/></a>"
      ]
    },
    {
      "cell_type": "markdown",
      "source": [
        "name of variable"
      ],
      "metadata": {
        "id": "Ymq_2-d3EGBn"
      }
    },
    {
      "cell_type": "code",
      "source": [
        "_name= \"Foysal\"\n",
        "first_name= \"a\"\n",
        "# number@@=\"qwee\"\n",
        "# 1name= \"foysal\""
      ],
      "metadata": {
        "id": "z6StW5wtC13f"
      },
      "execution_count": null,
      "outputs": []
    },
    {
      "cell_type": "markdown",
      "source": [
        "Value Assignment"
      ],
      "metadata": {
        "id": "QpywqjxlDilh"
      }
    },
    {
      "cell_type": "code",
      "source": [
        "a= 10\n",
        "name,age= \"kalam\",\"20\"\n",
        "print(age,name)\n",
        "\n",
        "a=b=c=10\n",
        "print(a,b,c)\n",
        "type(age)\n"
      ],
      "metadata": {
        "colab": {
          "base_uri": "https://localhost:8080/"
        },
        "id": "FFE5pnwADrM7",
        "outputId": "4a7493b2-6c22-47ac-87df-a9f01f7803a3"
      },
      "execution_count": null,
      "outputs": [
        {
          "output_type": "stream",
          "name": "stdout",
          "text": [
            "20 kalam\n",
            "10 10 10\n"
          ]
        },
        {
          "output_type": "execute_result",
          "data": {
            "text/plain": [
              "str"
            ]
          },
          "metadata": {},
          "execution_count": 6
        }
      ]
    },
    {
      "cell_type": "markdown",
      "source": [
        "delete"
      ],
      "metadata": {
        "id": "o3kU_Rp8EQtf"
      }
    },
    {
      "cell_type": "code",
      "source": [
        "x=10\n",
        "#del x\n",
        "print(x)"
      ],
      "metadata": {
        "colab": {
          "base_uri": "https://localhost:8080/"
        },
        "id": "ed1b3hHBESSk",
        "outputId": "03fb372c-03c5-4e62-b594-b73030ae1cf4"
      },
      "execution_count": null,
      "outputs": [
        {
          "output_type": "stream",
          "name": "stdout",
          "text": [
            "10\n"
          ]
        }
      ]
    },
    {
      "cell_type": "markdown",
      "source": [
        "local variable"
      ],
      "metadata": {
        "id": "XI60-0n3ElKl"
      }
    },
    {
      "cell_type": "code",
      "source": [
        "def func ():\n",
        "    x=5\n",
        "    print (x)\n",
        "    func()\n",
        "    print(x)\n"
      ],
      "metadata": {
        "id": "-hGvl_NeEnN1"
      },
      "execution_count": null,
      "outputs": []
    },
    {
      "cell_type": "markdown",
      "source": [
        "global variable"
      ],
      "metadata": {
        "id": "9_M3V__mEuLo"
      }
    },
    {
      "cell_type": "code",
      "source": [
        "x=5\n",
        "def func ():\n",
        "    print (x)\n",
        "    func()\n",
        "    print(x)\n"
      ],
      "metadata": {
        "id": "OmhviUMzEuq2"
      },
      "execution_count": null,
      "outputs": []
    },
    {
      "cell_type": "markdown",
      "source": [
        "user input-output"
      ],
      "metadata": {
        "id": "2d0GpwDQE4En"
      }
    },
    {
      "cell_type": "code",
      "source": [
        "input()\n",
        "name=input(\"enter your name: \")\n",
        "age= int(input(\"enter your age: \"))\n",
        "print()\n",
        "print (name,age)  # output\n",
        "type(name,age)"
      ],
      "metadata": {
        "id": "GUbBD2hbE-V1"
      },
      "execution_count": null,
      "outputs": []
    },
    {
      "cell_type": "markdown",
      "source": [
        "Assignment"
      ],
      "metadata": {
        "id": "E9hgrwCiDHVz"
      }
    },
    {
      "cell_type": "code",
      "source": [
        "\n",
        "name=input( \"Enter your name: \")\n",
        "age= int(input(\"Enter your age: \"))\n",
        "height=float(input(\"Enter your height: \"))\n",
        "print(type(name))\n",
        "print(type(age))\n",
        "print(type(height))"
      ],
      "metadata": {
        "colab": {
          "base_uri": "https://localhost:8080/"
        },
        "id": "UPIqKcobC4rV",
        "outputId": "82be5144-5ea8-44a2-a189-a8a4836f25c6"
      },
      "execution_count": null,
      "outputs": [
        {
          "name": "stdout",
          "output_type": "stream",
          "text": [
            "Enter your name: hisenburg\n"
          ]
        }
      ]
    }
  ]
}